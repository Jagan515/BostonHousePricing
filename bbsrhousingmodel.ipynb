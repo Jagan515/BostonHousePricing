{
 "cells": [
  {
   "cell_type": "code",
   "execution_count": 1,
   "id": "c103aa77-e3ed-4ecc-85bc-1d610aae0e4d",
   "metadata": {},
   "outputs": [],
   "source": [
    "import pandas as pd\n",
    "import numpy as np\n",
    "import matplotlib.pyplot as plt\n",
    "import seaborn as sns\n",
    "import warnings\n",
    "warnings.filterwarnings('ignore')\n",
    "from sklearn.datasets import fetch_openml\n"
   ]
  },
  {
   "cell_type": "code",
   "execution_count": 2,
   "id": "a9da31bd-7d08-4ef6-a67e-69bb97c31a1e",
   "metadata": {},
   "outputs": [],
   "source": [
    "import os, certifi\n",
    "os.environ['SSL_CERT_FILE'] = certifi.where()\n",
    "df = fetch_openml(name='Boston', version=1, as_frame=True)\n",
    "X = df.data.copy()\n",
    "y = df.target.copy()"
   ]
  },
  {
   "cell_type": "code",
   "execution_count": 3,
   "id": "20144855-0d12-41fb-81ac-d5659ed5c01b",
   "metadata": {},
   "outputs": [],
   "source": [
    "X.columns = [\n",
    "    'CRIME_RATE', 'GREEN_AREA', 'INDUSTRIAL_AREA', 'RIVER_PROXIMITY',\n",
    "    'POLLUTION_LEVEL', 'AVG_ROOMS', 'HOUSE_AGE', 'EMPLOYMENT_DISTANCE',\n",
    "    'LOCALITY_RANK', 'PROPERTY_TAX', 'TEACHER_RATIO', 'MIGRANT_POPULATION', 'LOW_INCOME_POP'\n",
    "]"
   ]
  },
  {
   "cell_type": "code",
   "execution_count": 4,
   "id": "df20ee6d-9395-4a0f-95d7-11811f5ef1b2",
   "metadata": {},
   "outputs": [],
   "source": [
    "# Convert target to lakhs INR\n",
    "y = y * 75 / 10"
   ]
  },
  {
   "cell_type": "code",
   "execution_count": 5,
   "id": "768acb07-0d22-4c43-9707-e2fb9f42c547",
   "metadata": {},
   "outputs": [
    {
     "name": "stdout",
     "output_type": "stream",
     "text": [
      "Step 1: Dataset loaded and features renamed for Bhubaneswar\n",
      "Features: ['CRIME_RATE', 'GREEN_AREA', 'INDUSTRIAL_AREA', 'RIVER_PROXIMITY', 'POLLUTION_LEVEL', 'AVG_ROOMS', 'HOUSE_AGE', 'EMPLOYMENT_DISTANCE', 'LOCALITY_RANK', 'PROPERTY_TAX', 'TEACHER_RATIO', 'MIGRANT_POPULATION', 'LOW_INCOME_POP']\n",
      "Target range: ₹37.50 lakhs to ₹375.00 lakhs\n"
     ]
    }
   ],
   "source": [
    "print(\"Step 1: Dataset loaded and features renamed for Bhubaneswar\")\n",
    "print(f\"Features: {X.columns.tolist()}\")\n",
    "print(f\"Target range: ₹{y.min():.2f} lakhs to ₹{y.max():.2f} lakhs\")"
   ]
  },
  {
   "cell_type": "code",
   "execution_count": 6,
   "id": "f7a778e2-6967-4b73-a62c-d99759cb03bb",
   "metadata": {},
   "outputs": [
    {
     "name": "stdout",
     "output_type": "stream",
     "text": [
      "\n",
      "Step 2: Handling missing values...\n",
      "Missing values in features: 0\n",
      "Missing values in target: 0\n"
     ]
    }
   ],
   "source": [
    "print(\"\\nStep 2: Handling missing values...\")\n",
    "print(f\"Missing values in features: {X.isnull().sum().sum()}\")\n",
    "print(f\"Missing values in target: {y.isnull().sum()}\")"
   ]
  },
  {
   "cell_type": "code",
   "execution_count": 7,
   "id": "bdd48a84-d8ec-4841-9d1a-58c65d6707f2",
   "metadata": {},
   "outputs": [],
   "source": [
    "# If there were missing values, we would use:\n",
    "# from sklearn.impute import SimpleImputer\n",
    "# imputer = SimpleImputer(strategy='median')\n",
    "# X = pd.DataFrame(imputer.fit_transform(X), columns=X.columns)\n"
   ]
  },
  {
   "cell_type": "code",
   "execution_count": 11,
   "id": "49482dba-54dc-4af2-a32a-5d4d2459f2da",
   "metadata": {},
   "outputs": [],
   "source": [
    "import pandas as pd\n",
    "import numpy as np\n",
    "\n",
    "def remove_outliers_iqr(df, columns=None, coerce_numeric=False, iqr_multiplier=1.5, verbose=True):\n",
    "    \"\"\"\n",
    "    Remove rows that are outliers based on IQR for numeric columns.\n",
    "    - df: pandas DataFrame\n",
    "    - columns: list of column names to check. If None, will use numeric columns only.\n",
    "    - coerce_numeric: if True, try pd.to_numeric on non-numeric cols (errors='coerce') before checking.\n",
    "    - iqr_multiplier: multiplier for the IQR rule (1.5 typical)\n",
    "    Returns: cleaned_df (a copy) -- rows removed are dropped.\n",
    "    \"\"\"\n",
    "    # Work on a copy\n",
    "    clean_df = df.copy()\n",
    "\n",
    "    # If user did not pass columns, pick numeric columns\n",
    "    if columns is None:\n",
    "        numeric_cols = clean_df.select_dtypes(include=[np.number]).columns.tolist()\n",
    "    else:\n",
    "        numeric_cols = list(columns)\n",
    "\n",
    "    # Optionally attempt to coerce some columns to numeric\n",
    "    if coerce_numeric:\n",
    "        for col in numeric_cols:\n",
    "            if not pd.api.types.is_numeric_dtype(clean_df[col]):\n",
    "                clean_df[col] = pd.to_numeric(clean_df[col], errors='coerce')\n",
    "\n",
    "    # Final filter: keep only numeric columns for IQR checks\n",
    "    numeric_cols = [c for c in numeric_cols if pd.api.types.is_numeric_dtype(clean_df[c])]\n",
    "    if verbose:\n",
    "        print(f\"Columns to use for IQR outlier removal: {numeric_cols}\")\n",
    "\n",
    "    # If no numeric columns, nothing to do\n",
    "    if not numeric_cols:\n",
    "        if verbose:\n",
    "            print(\"No numeric columns found — returning original df\")\n",
    "        return clean_df\n",
    "\n",
    "    # Build boolean mask of rows to KEEP (start as all True)\n",
    "    keep_mask = pd.Series(True, index=clean_df.index)\n",
    "\n",
    "    # Apply IQR rule column by column\n",
    "    for col in numeric_cols:\n",
    "        series = clean_df[col].dropna()  # compute quantiles on non-null values\n",
    "        if series.empty:\n",
    "            if verbose:\n",
    "                print(f\"Column {col} is empty after dropping NA — skipping.\")\n",
    "            continue\n",
    "\n",
    "        Q1 = series.quantile(0.25)\n",
    "        Q3 = series.quantile(0.75)\n",
    "        IQR = Q3 - Q1\n",
    "        lower_bound = Q1 - iqr_multiplier * IQR\n",
    "        upper_bound = Q3 + iqr_multiplier * IQR\n",
    "\n",
    "        # Rows that are NOT outliers for this column\n",
    "        col_mask = (clean_df[col] >= lower_bound) & (clean_df[col] <= upper_bound)\n",
    "\n",
    "        # Count outliers before applying\n",
    "        outliers_before = (~col_mask & ~clean_df[col].isna()).sum()\n",
    "        if verbose:\n",
    "            print(f\"{col}: Q1={Q1:.4g}, Q3={Q3:.4g}, IQR={IQR:.4g}, lower={lower_bound:.4g}, upper={upper_bound:.4g}, outliers={outliers_before}\")\n",
    "\n",
    "        # Combine masks (row must be non-outlier for all considered numeric columns)\n",
    "        keep_mask &= col_mask.fillna(True)  # treat NaN as not failing bounds (optional choice)\n",
    "\n",
    "    # Apply final mask\n",
    "    cleaned = clean_df.loc[keep_mask].copy()\n",
    "    if verbose:\n",
    "        print(f\"Rows before: {len(df)}, rows after: {len(cleaned)}, rows removed: {len(df) - len(cleaned)}\")\n",
    "\n",
    "    return cleaned\n"
   ]
  },
  {
   "cell_type": "code",
   "execution_count": 12,
   "id": "d22b0ac7-247e-4db9-893d-8ae563ae23a4",
   "metadata": {},
   "outputs": [
    {
     "name": "stdout",
     "output_type": "stream",
     "text": [
      "Columns to use for IQR outlier removal: ['CRIME_RATE', 'GREEN_AREA', 'INDUSTRIAL_AREA', 'POLLUTION_LEVEL', 'AVG_ROOMS', 'HOUSE_AGE', 'EMPLOYMENT_DISTANCE', 'PROPERTY_TAX', 'TEACHER_RATIO', 'MIGRANT_POPULATION', 'LOW_INCOME_POP']\n",
      "CRIME_RATE: Q1=0.08204, Q3=3.677, IQR=3.595, lower=-5.311, upper=9.07, outliers=66\n",
      "GREEN_AREA: Q1=0, Q3=12.5, IQR=12.5, lower=-18.75, upper=31.25, outliers=68\n",
      "INDUSTRIAL_AREA: Q1=5.19, Q3=18.1, IQR=12.91, lower=-14.18, upper=37.47, outliers=0\n",
      "POLLUTION_LEVEL: Q1=0.449, Q3=0.624, IQR=0.175, lower=0.1865, upper=0.8865, outliers=0\n",
      "AVG_ROOMS: Q1=5.885, Q3=6.623, IQR=0.738, lower=4.778, upper=7.731, outliers=30\n",
      "HOUSE_AGE: Q1=45.02, Q3=94.07, IQR=49.05, lower=-28.55, upper=167.6, outliers=0\n",
      "EMPLOYMENT_DISTANCE: Q1=2.1, Q3=5.188, IQR=3.088, lower=-2.532, upper=9.821, outliers=5\n",
      "PROPERTY_TAX: Q1=279, Q3=666, IQR=387, lower=-301.5, upper=1246, outliers=0\n",
      "TEACHER_RATIO: Q1=17.4, Q3=20.2, IQR=2.8, lower=13.2, upper=24.4, outliers=15\n",
      "MIGRANT_POPULATION: Q1=375.4, Q3=396.2, IQR=20.85, lower=344.1, upper=427.5, outliers=77\n",
      "LOW_INCOME_POP: Q1=6.95, Q3=16.96, IQR=10.01, lower=-8.058, upper=31.96, outliers=7\n",
      "Rows before: 506, rows after: 298, rows removed: 208\n",
      "Original data shape: (506, 13)\n",
      "After outlier removal: (298, 13)\n",
      "Rows removed: 208\n",
      "\n",
      "Step 4: Handling capped target variable...\n",
      "Target is capped at: ₹375.00 lakhs\n",
      "Number of capped values: 5\n"
     ]
    }
   ],
   "source": [
    "# Remove outliers from features\n",
    "X_clean = remove_outliers_iqr(X, X.columns)\n",
    "y_clean = y.loc[X_clean.index]\n",
    "\n",
    "print(f\"Original data shape: {X.shape}\")\n",
    "print(f\"After outlier removal: {X_clean.shape}\")\n",
    "print(f\"Rows removed: {X.shape[0] - X_clean.shape[0]}\")\n",
    "\n",
    "# Step 4: Handle capped target variable\n",
    "print(\"\\nStep 4: Handling capped target variable...\")\n",
    "target_cap = y_clean.max()\n",
    "capped_count = (y_clean == target_cap).sum()\n",
    "print(f\"Target is capped at: ₹{target_cap:.2f} lakhs\")\n",
    "print(f\"Number of capped values: {capped_count}\")"
   ]
  },
  {
   "cell_type": "code",
   "execution_count": 13,
   "id": "5675b490-e416-4ce9-b4f1-87952d7524b4",
   "metadata": {},
   "outputs": [
    {
     "name": "stdout",
     "output_type": "stream",
     "text": [
      "Removed 5 capped values\n"
     ]
    }
   ],
   "source": [
    "if capped_count / len(y_clean) < 0.05:\n",
    "    uncapped_mask = y_clean < target_cap\n",
    "    X_clean = X_clean[uncapped_mask]\n",
    "    y_clean = y_clean[uncapped_mask]\n",
    "    print(f\"Removed {capped_count} capped values\")\n",
    "else:\n",
    "    print(\"Too many capped values - keeping them for now\")"
   ]
  },
  {
   "cell_type": "code",
   "execution_count": 14,
   "id": "2a552bf8-e6ca-4978-ae01-31327c55a5a9",
   "metadata": {},
   "outputs": [
    {
     "name": "stdout",
     "output_type": "stream",
     "text": [
      "\n",
      "Step 5: Creating bins for stratified splitting...\n",
      "Target value ranges for each bin:\n",
      "  Bin 0: ₹63.75 - ₹120.75 lakhs\n",
      "  Bin 1: ₹121.50 - ₹177.75 lakhs\n",
      "  Bin 2: ₹178.50 - ₹225.75 lakhs\n",
      "  Bin 3: ₹236.25 - ₹284.25 lakhs\n",
      "  Bin 4: ₹309.75 - ₹350.25 lakhs\n"
     ]
    }
   ],
   "source": [
    "print(\"\\nStep 5: Creating bins for stratified splitting...\")\n",
    "y_bins = pd.cut(y_clean, bins=5, labels=False)\n",
    "print(\"Target value ranges for each bin:\")\n",
    "for i in range(5):\n",
    "    bin_mask = (y_bins == i)\n",
    "    if bin_mask.any():\n",
    "        bin_min = y_clean[bin_mask].min()\n",
    "        bin_max = y_clean[bin_mask].max()\n",
    "        print(f\"  Bin {i}: ₹{bin_min:.2f} - ₹{bin_max:.2f} lakhs\")\n"
   ]
  },
  {
   "cell_type": "code",
   "execution_count": 15,
   "id": "2aa9e0e5-987d-482d-b1f0-bbb609c5ab8a",
   "metadata": {},
   "outputs": [
    {
     "name": "stdout",
     "output_type": "stream",
     "text": [
      "\n",
      "Step 6: Performing stratified train-test split...\n"
     ]
    }
   ],
   "source": [
    "print(\"\\nStep 6: Performing stratified train-test split...\")\n",
    "from sklearn.model_selection import train_test_split\n",
    "\n",
    "X_train, X_test, y_train, y_test = train_test_split(\n",
    "    X_clean, y_clean, \n",
    "    test_size=0.2, \n",
    "    random_state=42,\n",
    "    stratify=y_bins  # Use bins for stratification\n",
    ")"
   ]
  },
  {
   "cell_type": "code",
   "execution_count": 16,
   "id": "b485c5bc-4ee4-4777-9b4b-57a125ff09ab",
   "metadata": {},
   "outputs": [
    {
     "name": "stdout",
     "output_type": "stream",
     "text": [
      "Training set size: 234\n",
      "Testing set size: 59\n"
     ]
    }
   ],
   "source": [
    "print(f\"Training set size: {X_train.shape[0]}\")\n",
    "print(f\"Testing set size: {X_test.shape[0]}\")\n"
   ]
  },
  {
   "cell_type": "code",
   "execution_count": 17,
   "id": "86bce42a-8a4b-448b-a20e-146a564968eb",
   "metadata": {},
   "outputs": [
    {
     "name": "stdout",
     "output_type": "stream",
     "text": [
      "\n",
      "Step 7: Normalizing the data...\n"
     ]
    }
   ],
   "source": [
    "print(\"\\nStep 7: Normalizing the data...\")\n",
    "from sklearn.preprocessing import StandardScaler\n"
   ]
  },
  {
   "cell_type": "code",
   "execution_count": 18,
   "id": "478ac91f-683c-4aef-a135-3df8eecd62e0",
   "metadata": {},
   "outputs": [
    {
     "name": "stdout",
     "output_type": "stream",
     "text": [
      "Data normalized using StandardScaler (mean=0, std=1)\n"
     ]
    }
   ],
   "source": [
    "scaler = StandardScaler()\n",
    "X_train_scaled = scaler.fit_transform(X_train)\n",
    "X_test_scaled = scaler.transform(X_test)  # Only transform test data, don't fit\n",
    "\n",
    "print(\"Data normalized using StandardScaler (mean=0, std=1)\")\n"
   ]
  },
  {
   "cell_type": "code",
   "execution_count": 19,
   "id": "6dc0d4bf-7248-4be3-b225-e786b1e6f129",
   "metadata": {},
   "outputs": [
    {
     "name": "stdout",
     "output_type": "stream",
     "text": [
      "\n",
      "Step 8: Performing cross-validation with K-Fold...\n"
     ]
    }
   ],
   "source": [
    "print(\"\\nStep 8: Performing cross-validation with K-Fold...\")\n",
    "from sklearn.model_selection import cross_val_score, KFold\n",
    "from sklearn.linear_model import LinearRegression\n",
    "from sklearn.metrics import mean_absolute_error, mean_squared_error, r2_score"
   ]
  },
  {
   "cell_type": "code",
   "execution_count": 20,
   "id": "77a3f5f6-7595-4f0a-a034-62050e798d63",
   "metadata": {},
   "outputs": [
    {
     "name": "stdout",
     "output_type": "stream",
     "text": [
      "\n",
      "Evaluating Linear Regression...\n",
      "  Cross-validation R² scores: [0.76479005 0.77751055 0.63302993 0.6637966  0.7674763 ]\n",
      "  Mean R²: 0.7213 (±0.0605)\n"
     ]
    }
   ],
   "source": [
    "models = {\n",
    "    'Linear Regression': LinearRegression(),\n",
    "}\n",
    "\n",
    "# Set up K-Fold cross-validation\n",
    "kfold = KFold(n_splits=5, shuffle=True, random_state=42)\n",
    "\n",
    "# Perform cross-validation for each model\n",
    "cv_results = {}\n",
    "for name, model in models.items():\n",
    "    print(f\"\\nEvaluating {name}...\")\n",
    "    \n",
    "    # Cross-validation scores\n",
    "    cv_scores = cross_val_score(model, X_train_scaled, y_train, \n",
    "                               cv=kfold, scoring='r2')\n",
    "    \n",
    "    cv_results[name] = {\n",
    "        'cv_r2_mean': cv_scores.mean(),\n",
    "        'cv_r2_std': cv_scores.std(),\n",
    "        'cv_scores': cv_scores\n",
    "    }\n",
    "    \n",
    "    print(f\"  Cross-validation R² scores: {cv_scores}\")\n",
    "    print(f\"  Mean R²: {cv_scores.mean():.4f} (±{cv_scores.std():.4f})\")\n"
   ]
  },
  {
   "cell_type": "code",
   "execution_count": 21,
   "id": "0ec6b34d-76bb-4894-9058-992c3ed3208e",
   "metadata": {},
   "outputs": [
    {
     "name": "stdout",
     "output_type": "stream",
     "text": [
      "\n",
      "Step 9: Training the best model on entire training set...\n",
      "Best model: Linear Regression\n",
      "\n",
      "Step 10: FINAL TESTING on unseen test data...\n"
     ]
    }
   ],
   "source": [
    "print(\"\\nStep 9: Training the best model on entire training set...\")\n",
    "best_model_name = max(cv_results.keys(), key=lambda x: cv_results[x]['cv_r2_mean'])\n",
    "best_model = models[best_model_name]\n",
    "\n",
    "print(f\"Best model: {best_model_name}\")\n",
    "\n",
    "# Train the best model on entire training data\n",
    "best_model.fit(X_train_scaled, y_train)\n",
    "\n",
    "# Step 10: FINAL TESTING - Only now use the test data\n",
    "print(\"\\nStep 10: FINAL TESTING on unseen test data...\")"
   ]
  },
  {
   "cell_type": "code",
   "execution_count": 22,
   "id": "9cc95fdc-b229-420e-b935-28e5fa595ace",
   "metadata": {},
   "outputs": [],
   "source": [
    "y_pred = best_model.predict(X_test_scaled)\n",
    "\n",
    "# Calculate evaluation metrics\n",
    "test_mae = mean_absolute_error(y_test, y_pred)\n",
    "test_mse = mean_squared_error(y_test, y_pred)\n",
    "test_rmse = np.sqrt(test_mse)\n",
    "test_r2 = r2_score(y_test, y_pred)\n",
    "\n",
    "# Adjusted R²\n",
    "n_test = len(X_test)\n",
    "p_test = X_test.shape[1]\n",
    "test_adj_r2 = 1 - (1 - test_r2) * (n_test - 1) / (n_test - p_test - 1)"
   ]
  },
  {
   "cell_type": "code",
   "execution_count": 23,
   "id": "8d571a1a-e053-476e-87e5-cadc59e8fcd4",
   "metadata": {},
   "outputs": [
    {
     "name": "stdout",
     "output_type": "stream",
     "text": [
      "\n",
      "==================================================\n",
      "FINAL MODEL PERFORMANCE ON TEST DATA\n",
      "==================================================\n",
      "Mean Absolute Error: ₹18.52 lakhs\n",
      "Mean Squared Error: 554.50\n",
      "Root Mean Squared Error: ₹23.55 lakhs\n",
      "R² Score: 0.6147\n",
      "Adjusted R²: 0.5034\n"
     ]
    }
   ],
   "source": [
    "print(\"\\n\" + \"=\"*50)\n",
    "print(\"FINAL MODEL PERFORMANCE ON TEST DATA\")\n",
    "print(\"=\"*50)\n",
    "print(f\"Mean Absolute Error: ₹{test_mae:.2f} lakhs\")\n",
    "print(f\"Mean Squared Error: {test_mse:.2f}\")\n",
    "print(f\"Root Mean Squared Error: ₹{test_rmse:.2f} lakhs\")\n",
    "print(f\"R² Score: {test_r2:.4f}\")\n",
    "print(f\"Adjusted R²: {test_adj_r2:.4f}\")"
   ]
  },
  {
   "cell_type": "code",
   "execution_count": 24,
   "id": "a17cc3ad-2df1-411e-8892-89b2842c15a5",
   "metadata": {},
   "outputs": [
    {
     "name": "stdout",
     "output_type": "stream",
     "text": [
      "\n",
      "Step 11: Creating visualizations...\n"
     ]
    },
    {
     "data": {
      "text/plain": [
       "Text(0.5, 1.0, 'Actual vs Predicted Prices')"
      ]
     },
     "execution_count": 24,
     "metadata": {},
     "output_type": "execute_result"
    },
    {
     "data": {
      "image/png": "[encoded data removed]",
      "text/plain": [
       "<Figure size 1500x500 with 1 Axes>"
      ]
     },
     "metadata": {},
     "output_type": "display_data"
    }
   ],
   "source": [
    "print(\"\\nStep 11: Creating visualizations...\")\n",
    "\n",
    "plt.figure(figsize=(15, 5))\n",
    "\n",
    "# Plot 1: Actual vs Predicted\n",
    "plt.subplot(1, 3, 1)\n",
    "plt.scatter(y_test, y_pred, alpha=0.6)\n",
    "plt.plot([y_test.min(), y_test.max()], [y_test.min(), y_test.max()], 'r--', lw=2)\n",
    "plt.xlabel('Actual Price (lakhs INR)')\n",
    "plt.ylabel('Predicted Price (lakhs INR)')\n",
    "plt.title('Actual vs Predicted Prices')\n"
   ]
  },
  {
   "cell_type": "code",
   "execution_count": 25,
   "id": "a8b5a895-3407-4c72-9a7c-9db84b4df231",
   "metadata": {},
   "outputs": [
    {
     "data": {
      "text/plain": [
       "Text(0.5, 1.0, 'Residual Plot')"
      ]
     },
     "execution_count": 25,
     "metadata": {},
     "output_type": "execute_result"
    },
    {
     "data": {
      "image/png": "[encoded data removed]",
      "text/plain": [
       "<Figure size 640x480 with 1 Axes>"
      ]
     },
     "metadata": {},
     "output_type": "display_data"
    }
   ],
   "source": [
    "residuals = y_test - y_pred\n",
    "plt.subplot(1, 3, 2)\n",
    "plt.scatter(y_pred, residuals, alpha=0.6)\n",
    "plt.axhline(y=0, color='r', linestyle='--')\n",
    "plt.xlabel('Predicted Values')\n",
    "plt.ylabel('Residuals')\n",
    "plt.title('Residual Plot')"
   ]
  },
  {
   "cell_type": "code",
   "execution_count": 26,
   "id": "ec14f75e-1847-4110-8657-8bc24356bac2",
   "metadata": {},
   "outputs": [
    {
     "data": {
      "image/png": "[encoded data removed]",
      "text/plain": [
       "<Figure size 640x480 with 1 Axes>"
      ]
     },
     "metadata": {},
     "output_type": "display_data"
    }
   ],
   "source": [
    "plt.subplot(1, 3, 3)\n",
    "sns.histplot(residuals, kde=True)\n",
    "plt.xlabel('Residuals')\n",
    "plt.title('Residual Distribution')\n",
    "\n",
    "plt.tight_layout()\n",
    "plt.show()"
   ]
  },
  {
   "cell_type": "code",
   "execution_count": 27,
   "id": "285cd4f0-f311-4cf3-bdbd-32f881fd7f23",
   "metadata": {},
   "outputs": [
    {
     "name": "stdout",
     "output_type": "stream",
     "text": [
      "\n",
      "Step 12: Feature Importance Analysis\n",
      "\n",
      "Feature Importance (Absolute Coefficients):\n",
      "  AVG_ROOMS: 19.2943\n",
      "  LOCALITY_RANK: 18.2501\n",
      "  PROPERTY_TAX: 13.7391\n",
      "  CRIME_RATE: 12.1981\n",
      "  EMPLOYMENT_DISTANCE: 12.0595\n",
      "  HOUSE_AGE: 10.2663\n",
      "  TEACHER_RATIO: 9.6465\n",
      "  LOW_INCOME_POP: 8.3030\n",
      "  POLLUTION_LEVEL: 3.1510\n",
      "  RIVER_PROXIMITY: 3.1292\n",
      "  MIGRANT_POPULATION: 1.7735\n",
      "  GREEN_AREA: 1.2176\n",
      "  INDUSTRIAL_AREA: 0.4432\n",
      "\n",
      "Step 13: Saving the final model...\n"
     ]
    }
   ],
   "source": [
    "print(\"\\nStep 12: Feature Importance Analysis\")\n",
    "if hasattr(best_model, 'coef_'):\n",
    "    feature_importance = pd.DataFrame({\n",
    "        'Feature': X_clean.columns,\n",
    "        'Importance': abs(best_model.coef_)\n",
    "    }).sort_values('Importance', ascending=False)\n",
    "    \n",
    "    print(\"\\nFeature Importance (Absolute Coefficients):\")\n",
    "    for _, row in feature_importance.iterrows():\n",
    "        print(f\"  {row['Feature']}: {row['Importance']:.4f}\")\n",
    "\n",
    "# Step 13: Save the final model and preprocessing objects\n",
    "print(\"\\nStep 13: Saving the final model...\")"
   ]
  },
  {
   "cell_type": "code",
   "execution_count": 28,
   "id": "14b8c665-c465-4974-ba1f-1b53f4ae62f2",
   "metadata": {},
   "outputs": [
    {
     "name": "stdout",
     "output_type": "stream",
     "text": [
      "Model and scaler saved successfully!\n",
      "\n",
      "Step 14: Creating prediction function...\n"
     ]
    }
   ],
   "source": [
    "import pickle\n",
    "\n",
    "# Save scaler\n",
    "pickle.dump(scaler, open('bhubaneswar_scaler.pkl', 'wb'))\n",
    "\n",
    "# Save model\n",
    "pickle.dump(best_model, open('bhubaneswar_best_model.pkl', 'wb'))\n",
    "\n",
    "print(\"Model and scaler saved successfully!\")\n",
    "\n",
    "# Step 14: Create prediction function for new data\n",
    "print(\"\\nStep 14: Creating prediction function...\")\n"
   ]
  },
  {
   "cell_type": "code",
   "execution_count": 29,
   "id": "c6d40464-00af-4d11-a146-88fc56b2fe0a",
   "metadata": {},
   "outputs": [],
   "source": [
    "def predict_bhubaneswar_house_price(features_dict):\n",
    "    \"\"\"\n",
    "    Predict house price for Bhubaneswar using the trained model\n",
    "    \"\"\"\n",
    "    try:\n",
    "        # Load model and scaler\n",
    "        model = pickle.load(open('bhubaneswar_best_model.pkl', 'rb'))\n",
    "        scaler = pickle.load(open('bhubaneswar_scaler.pkl', 'rb'))\n",
    "        \n",
    "        # Convert to DataFrame\n",
    "        input_df = pd.DataFrame([features_dict])\n",
    "        \n",
    "        # Ensure correct column order\n",
    "        input_df = input_df[X_clean.columns]\n",
    "        \n",
    "        # Scale features\n",
    "        scaled_input = scaler.transform(input_df)\n",
    "        \n",
    "        # Predict\n",
    "        prediction = model.predict(scaled_input)\n",
    "        \n",
    "        return prediction[0]\n",
    "    \n",
    "    except Exception as e:\n",
    "        print(f\"Error in prediction: {e}\")\n",
    "        return None"
   ]
  },
  {
   "cell_type": "code",
   "execution_count": 30,
   "id": "4358e4da-e235-41ca-985e-466db03e59e2",
   "metadata": {},
   "outputs": [],
   "source": [
    "sample_house = {\n",
    "    'CRIME_RATE': 0.1,\n",
    "    'GREEN_AREA': 18.0,\n",
    "    'INDUSTRIAL_AREA': 2.0,\n",
    "    'RIVER_PROXIMITY': 1,  # Near Kuakhai River\n",
    "    'POLLUTION_LEVEL': 0.4,\n",
    "    'AVG_ROOMS': 6.5,      # Good number of rooms\n",
    "    'HOUSE_AGE': 45.0,     # Moderately old house\n",
    "    'EMPLOYMENT_DISTANCE': 4.0,\n",
    "    'LOCALITY_RANK': 8,    # Good locality\n",
    "    'PROPERTY_TAX': 280,\n",
    "    'TEACHER_RATIO': 15.0, # Good school\n",
    "    'MIGRANT_POPULATION': 380.0,\n",
    "    'LOW_INCOME_POP': 12.0\n",
    "}\n"
   ]
  },
  {
   "cell_type": "code",
   "execution_count": 31,
   "id": "abec6fd2-a3a9-493f-9776-77b455af12af",
   "metadata": {},
   "outputs": [
    {
     "name": "stdout",
     "output_type": "stream",
     "text": [
      "\n",
      "Sample Prediction for Bhubaneswar House:\n",
      "Predicted Price: ₹235.57 lakhs\n"
     ]
    }
   ],
   "source": [
    "predicted_price = predict_bhubaneswar_house_price(sample_house)\n",
    "print(f\"\\nSample Prediction for Bhubaneswar House:\")\n",
    "print(f\"Predicted Price: ₹{predicted_price:.2f} lakhs\")\n"
   ]
  },
  {
   "cell_type": "code",
   "execution_count": 32,
   "id": "19d49433-bddc-4beb-9e21-19902ff444f9",
   "metadata": {},
   "outputs": [
    {
     "name": "stdout",
     "output_type": "stream",
     "text": [
      "\n",
      "Step 15: Famous Localities in Bhubaneswar for Reference:\n"
     ]
    }
   ],
   "source": [
    "print(\"\\nStep 15: Famous Localities in Bhubaneswar for Reference:\")\n",
    "famous_localities = [\n",
    "    'Nayapalli', 'Saheed Nagar', 'Bapuji Nagar', 'Ashok Nagar', 'Kharavel Nagar',\n",
    "    'Janpath', 'Master Canteen', 'Kalpana Square', 'Vani Vihar', 'Rasulgarh',\n",
    "    'Patia', 'Chandrasekharpur', 'Niladri Vihar', 'Baramunda', 'Laxmi Sagar'\n",
    "]\n"
   ]
  },
  {
   "cell_type": "code",
   "execution_count": 33,
   "id": "672827de-3d5c-4d60-ac8c-5b9cef8a113d",
   "metadata": {},
   "outputs": [
    {
     "name": "stdout",
     "output_type": "stream",
     "text": [
      " 1. Nayapalli\n",
      " 2. Saheed Nagar\n",
      " 3. Bapuji Nagar\n",
      " 4. Ashok Nagar\n",
      " 5. Kharavel Nagar\n",
      " 6. Janpath\n",
      " 7. Master Canteen\n",
      " 8. Kalpana Square\n",
      " 9. Vani Vihar\n",
      "10. Rasulgarh\n",
      "11. Patia\n",
      "12. Chandrasekharpur\n",
      "13. Niladri Vihar\n",
      "14. Baramunda\n",
      "15. Laxmi Sagar\n",
      "\n",
      "============================================================\n",
      "MODEL TRAINING COMPLETE!\n",
      "============================================================\n",
      "Summary of improvements applied:\n",
      "✓ Missing values handled\n",
      "✓ Outliers removed using IQR method\n",
      "✓ Data normalized using StandardScaler\n",
      "✓ Capped target variable handled\n",
      "✓ Stratified train-test split performed\n",
      "✓ Cross-validation with K-Fold (5 folds)\n",
      "✓ Test data used ONLY for final evaluation\n",
      "✓ Comprehensive model evaluation\n",
      "✓ Feature importance analysis\n",
      "✓ Model saved for future predictions\n"
     ]
    }
   ],
   "source": [
    "for i, locality in enumerate(famous_localities, 1):\n",
    "    print(f\"{i:2d}. {locality}\")\n",
    "\n",
    "print(\"\\n\" + \"=\"*60)\n",
    "print(\"MODEL TRAINING COMPLETE!\")\n",
    "print(\"=\"*60)\n",
    "print(\"Summary of improvements applied:\")\n",
    "print(\"✓ Missing values handled\")\n",
    "print(\"✓ Outliers removed using IQR method\")\n",
    "print(\"✓ Data normalized using StandardScaler\")\n",
    "print(\"✓ Capped target variable handled\")\n",
    "print(\"✓ Stratified train-test split performed\")\n",
    "print(\"✓ Cross-validation with K-Fold (5 folds)\")\n",
    "print(\"✓ Test data used ONLY for final evaluation\")\n",
    "print(\"✓ Comprehensive model evaluation\")\n",
    "print(\"✓ Feature importance analysis\")\n",
    "print(\"✓ Model saved for future predictions\")"
   ]
  },
  {
   "cell_type": "code",
   "execution_count": null,
   "id": "918cbd67-083e-415e-96af-947209cb8911",
   "metadata": {},
   "outputs": [],
   "source": []
  }
 ],
 "metadata": {
  "kernelspec": {
   "display_name": "project-env (venv)",
   "language": "python",
   "name": "project-env"
  },
  "language_info": {
   "codemirror_mode": {
    "name": "ipython",
    "version": 3
   },
   "file_extension": ".py",
   "mimetype": "text/x-python",
   "name": "python",
   "nbconvert_exporter": "python",
   "pygments_lexer": "ipython3",
   "version": "3.13.2"
  }
 },
 "nbformat": 4,
 "nbformat_minor": 5
}
